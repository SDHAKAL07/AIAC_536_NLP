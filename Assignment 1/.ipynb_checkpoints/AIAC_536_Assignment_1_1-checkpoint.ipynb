{
 "cells": [
  {
   "cell_type": "markdown",
   "id": "f750c554",
   "metadata": {},
   "source": [
    "### Understanding Python with NLP"
   ]
  },
  {
   "cell_type": "code",
   "execution_count": 25,
   "id": "947518ea",
   "metadata": {},
   "outputs": [
    {
     "data": {
      "text/html": [
       "<div>\n",
       "<style scoped>\n",
       "    .dataframe tbody tr th:only-of-type {\n",
       "        vertical-align: middle;\n",
       "    }\n",
       "\n",
       "    .dataframe tbody tr th {\n",
       "        vertical-align: top;\n",
       "    }\n",
       "\n",
       "    .dataframe thead th {\n",
       "        text-align: right;\n",
       "    }\n",
       "</style>\n",
       "<table border=\"1\" class=\"dataframe\">\n",
       "  <thead>\n",
       "    <tr style=\"text-align: right;\">\n",
       "      <th></th>\n",
       "      <th>YEAR</th>\n",
       "      <th>MONTH</th>\n",
       "      <th>DAY</th>\n",
       "      <th>CARRIER</th>\n",
       "      <th>ORIGIN</th>\n",
       "      <th>DEST</th>\n",
       "      <th>SCHED_DEP_TIME</th>\n",
       "      <th>ACT_DEP_TIME</th>\n",
       "      <th>DEP_DELAY</th>\n",
       "      <th>SCHED_ARR_TIME</th>\n",
       "      <th>ACT_ARR_TIME</th>\n",
       "      <th>ARR_DELAY</th>\n",
       "    </tr>\n",
       "  </thead>\n",
       "  <tbody>\n",
       "    <tr>\n",
       "      <th>0</th>\n",
       "      <td>2019</td>\n",
       "      <td>7</td>\n",
       "      <td>24</td>\n",
       "      <td>G4</td>\n",
       "      <td>PIE</td>\n",
       "      <td>AVL</td>\n",
       "      <td>1511</td>\n",
       "      <td>1533.0</td>\n",
       "      <td>22.0</td>\n",
       "      <td>1644</td>\n",
       "      <td>1659.0</td>\n",
       "      <td>15.0</td>\n",
       "    </tr>\n",
       "    <tr>\n",
       "      <th>1</th>\n",
       "      <td>2019</td>\n",
       "      <td>7</td>\n",
       "      <td>29</td>\n",
       "      <td>G4</td>\n",
       "      <td>AUS</td>\n",
       "      <td>SFB</td>\n",
       "      <td>2002</td>\n",
       "      <td>2010.0</td>\n",
       "      <td>8.0</td>\n",
       "      <td>2335</td>\n",
       "      <td>2344.0</td>\n",
       "      <td>9.0</td>\n",
       "    </tr>\n",
       "    <tr>\n",
       "      <th>2</th>\n",
       "      <td>2019</td>\n",
       "      <td>7</td>\n",
       "      <td>7</td>\n",
       "      <td>G4</td>\n",
       "      <td>GRI</td>\n",
       "      <td>LAS</td>\n",
       "      <td>1118</td>\n",
       "      <td>1118.0</td>\n",
       "      <td>0.0</td>\n",
       "      <td>1144</td>\n",
       "      <td>1139.0</td>\n",
       "      <td>-5.0</td>\n",
       "    </tr>\n",
       "    <tr>\n",
       "      <th>3</th>\n",
       "      <td>2019</td>\n",
       "      <td>7</td>\n",
       "      <td>7</td>\n",
       "      <td>G4</td>\n",
       "      <td>AUS</td>\n",
       "      <td>MEM</td>\n",
       "      <td>1643</td>\n",
       "      <td>1726.0</td>\n",
       "      <td>43.0</td>\n",
       "      <td>1827</td>\n",
       "      <td>1922.0</td>\n",
       "      <td>55.0</td>\n",
       "    </tr>\n",
       "    <tr>\n",
       "      <th>4</th>\n",
       "      <td>2019</td>\n",
       "      <td>7</td>\n",
       "      <td>8</td>\n",
       "      <td>G4</td>\n",
       "      <td>IND</td>\n",
       "      <td>PIE</td>\n",
       "      <td>858</td>\n",
       "      <td>905.0</td>\n",
       "      <td>7.0</td>\n",
       "      <td>1107</td>\n",
       "      <td>1119.0</td>\n",
       "      <td>12.0</td>\n",
       "    </tr>\n",
       "    <tr>\n",
       "      <th>...</th>\n",
       "      <td>...</td>\n",
       "      <td>...</td>\n",
       "      <td>...</td>\n",
       "      <td>...</td>\n",
       "      <td>...</td>\n",
       "      <td>...</td>\n",
       "      <td>...</td>\n",
       "      <td>...</td>\n",
       "      <td>...</td>\n",
       "      <td>...</td>\n",
       "      <td>...</td>\n",
       "      <td>...</td>\n",
       "    </tr>\n",
       "    <tr>\n",
       "      <th>659024</th>\n",
       "      <td>2019</td>\n",
       "      <td>7</td>\n",
       "      <td>30</td>\n",
       "      <td>AA</td>\n",
       "      <td>BNA</td>\n",
       "      <td>DFW</td>\n",
       "      <td>715</td>\n",
       "      <td>709.0</td>\n",
       "      <td>-6.0</td>\n",
       "      <td>928</td>\n",
       "      <td>908.0</td>\n",
       "      <td>-20.0</td>\n",
       "    </tr>\n",
       "    <tr>\n",
       "      <th>659025</th>\n",
       "      <td>2019</td>\n",
       "      <td>7</td>\n",
       "      <td>31</td>\n",
       "      <td>AA</td>\n",
       "      <td>BNA</td>\n",
       "      <td>DFW</td>\n",
       "      <td>715</td>\n",
       "      <td>709.0</td>\n",
       "      <td>-6.0</td>\n",
       "      <td>928</td>\n",
       "      <td>858.0</td>\n",
       "      <td>-30.0</td>\n",
       "    </tr>\n",
       "    <tr>\n",
       "      <th>659026</th>\n",
       "      <td>2019</td>\n",
       "      <td>7</td>\n",
       "      <td>1</td>\n",
       "      <td>AA</td>\n",
       "      <td>MIA</td>\n",
       "      <td>TPA</td>\n",
       "      <td>1054</td>\n",
       "      <td>1048.0</td>\n",
       "      <td>-6.0</td>\n",
       "      <td>1207</td>\n",
       "      <td>1147.0</td>\n",
       "      <td>-20.0</td>\n",
       "    </tr>\n",
       "    <tr>\n",
       "      <th>659027</th>\n",
       "      <td>2019</td>\n",
       "      <td>7</td>\n",
       "      <td>2</td>\n",
       "      <td>AA</td>\n",
       "      <td>MIA</td>\n",
       "      <td>TPA</td>\n",
       "      <td>1054</td>\n",
       "      <td>1059.0</td>\n",
       "      <td>5.0</td>\n",
       "      <td>1207</td>\n",
       "      <td>1155.0</td>\n",
       "      <td>-12.0</td>\n",
       "    </tr>\n",
       "    <tr>\n",
       "      <th>659028</th>\n",
       "      <td>2019</td>\n",
       "      <td>7</td>\n",
       "      <td>3</td>\n",
       "      <td>AA</td>\n",
       "      <td>MIA</td>\n",
       "      <td>TPA</td>\n",
       "      <td>1054</td>\n",
       "      <td>1128.0</td>\n",
       "      <td>34.0</td>\n",
       "      <td>1207</td>\n",
       "      <td>1303.0</td>\n",
       "      <td>56.0</td>\n",
       "    </tr>\n",
       "  </tbody>\n",
       "</table>\n",
       "<p>659029 rows × 12 columns</p>\n",
       "</div>"
      ],
      "text/plain": [
       "        YEAR  MONTH  DAY CARRIER ORIGIN DEST  SCHED_DEP_TIME  ACT_DEP_TIME  \\\n",
       "0       2019      7   24      G4    PIE  AVL            1511        1533.0   \n",
       "1       2019      7   29      G4    AUS  SFB            2002        2010.0   \n",
       "2       2019      7    7      G4    GRI  LAS            1118        1118.0   \n",
       "3       2019      7    7      G4    AUS  MEM            1643        1726.0   \n",
       "4       2019      7    8      G4    IND  PIE             858         905.0   \n",
       "...      ...    ...  ...     ...    ...  ...             ...           ...   \n",
       "659024  2019      7   30      AA    BNA  DFW             715         709.0   \n",
       "659025  2019      7   31      AA    BNA  DFW             715         709.0   \n",
       "659026  2019      7    1      AA    MIA  TPA            1054        1048.0   \n",
       "659027  2019      7    2      AA    MIA  TPA            1054        1059.0   \n",
       "659028  2019      7    3      AA    MIA  TPA            1054        1128.0   \n",
       "\n",
       "        DEP_DELAY  SCHED_ARR_TIME  ACT_ARR_TIME  ARR_DELAY  \n",
       "0            22.0            1644        1659.0       15.0  \n",
       "1             8.0            2335        2344.0        9.0  \n",
       "2             0.0            1144        1139.0       -5.0  \n",
       "3            43.0            1827        1922.0       55.0  \n",
       "4             7.0            1107        1119.0       12.0  \n",
       "...           ...             ...           ...        ...  \n",
       "659024       -6.0             928         908.0      -20.0  \n",
       "659025       -6.0             928         858.0      -30.0  \n",
       "659026       -6.0            1207        1147.0      -20.0  \n",
       "659027        5.0            1207        1155.0      -12.0  \n",
       "659028       34.0            1207        1303.0       56.0  \n",
       "\n",
       "[659029 rows x 12 columns]"
      ]
     },
     "execution_count": 25,
     "metadata": {},
     "output_type": "execute_result"
    }
   ],
   "source": [
    "#uncomment below line (pip install pandas) and execute, if pandas is not installed in your system. Same goes for remaing pip install commands.\n",
    "\n",
    "#!pip install pandas\n",
    "\n",
    "import pandas as pd\n",
    "data = pd.read_csv(\"flight_data.csv\")\n",
    "data"
   ]
  },
  {
   "cell_type": "code",
   "execution_count": 2,
   "id": "afc681a2",
   "metadata": {},
   "outputs": [
    {
     "data": {
      "text/plain": [
       "'PPG'"
      ]
     },
     "execution_count": 2,
     "metadata": {},
     "output_type": "execute_result"
    }
   ],
   "source": [
    "#pandas group by function performs aggregate  function on group of specific field value and idxmax returns id for maximum value field. \n",
    "\n",
    "result = data.groupby(\"ORIGIN\")[\"DEP_DELAY\"].mean().idxmax()\n",
    "result"
   ]
  },
  {
   "cell_type": "code",
   "execution_count": 3,
   "id": "393ac3f0",
   "metadata": {},
   "outputs": [],
   "source": [
    "#!pip install scikit-learn"
   ]
  },
  {
   "cell_type": "code",
   "execution_count": 4,
   "id": "9fc778c4",
   "metadata": {},
   "outputs": [
    {
     "data": {
      "text/plain": [
       "matrix([[1, 1, 1, 2]], dtype=int64)"
      ]
     },
     "execution_count": 4,
     "metadata": {},
     "output_type": "execute_result"
    }
   ],
   "source": [
    "from sklearn.feature_extraction.text import CountVectorizer\n",
    "sentence = [\"How to change payment method and payment frequency\"]\n",
    "vectorizer = CountVectorizer(stop_words='english')\n",
    "vectorizer.fit_transform(sentence).todense()"
   ]
  },
  {
   "cell_type": "markdown",
   "id": "6ee41f07",
   "metadata": {},
   "source": [
    "## NLTK(Natural Language Toolkit)\n",
    "### Things we can do with NLTK are:\n",
    "> - Tokenize and tag some text.\n",
    "> - Identify named entities\n",
    "> - Display a parse tree\n"
   ]
  },
  {
   "cell_type": "code",
   "execution_count": 5,
   "id": "5a75184c",
   "metadata": {},
   "outputs": [],
   "source": [
    "#!pip install nltk"
   ]
  },
  {
   "cell_type": "code",
   "execution_count": 6,
   "id": "6d7d2552",
   "metadata": {},
   "outputs": [],
   "source": [
    "#nltk.download('punkt')"
   ]
  },
  {
   "cell_type": "code",
   "execution_count": 7,
   "id": "9b20d5b3",
   "metadata": {},
   "outputs": [
    {
     "name": "stdout",
     "output_type": "stream",
     "text": [
      "['Who', 'would', 'have', 'thought', 'that', 'computer', 'programs', 'would', 'be', 'analyzing', 'human', 'sentiments']\n"
     ]
    }
   ],
   "source": [
    "import nltk\n",
    "text = \"Who would have thought that computer programs would be analyzing human sentiments\"\n",
    "from nltk.tokenize import word_tokenize\n",
    "tokens = word_tokenize(text)\n",
    "print(tokens)"
   ]
  },
  {
   "cell_type": "code",
   "execution_count": 8,
   "id": "1028d6b4",
   "metadata": {},
   "outputs": [],
   "source": [
    "#nltk.download('stopwords')"
   ]
  },
  {
   "cell_type": "code",
   "execution_count": 9,
   "id": "5bdcbbc6",
   "metadata": {},
   "outputs": [
    {
     "name": "stdout",
     "output_type": "stream",
     "text": [
      "['i', 'me', 'my', 'myself', 'we', 'our', 'ours', 'ourselves', 'you', \"you're\", \"you've\", \"you'll\", \"you'd\", 'your', 'yours', 'yourself', 'yourselves', 'he', 'him', 'his', 'himself', 'she', \"she's\", 'her', 'hers', 'herself', 'it', \"it's\", 'its', 'itself', 'they', 'them', 'their', 'theirs', 'themselves', 'what', 'which', 'who', 'whom', 'this', 'that', \"that'll\", 'these', 'those', 'am', 'is', 'are', 'was', 'were', 'be', 'been', 'being', 'have', 'has', 'had', 'having', 'do', 'does', 'did', 'doing', 'a', 'an', 'the', 'and', 'but', 'if', 'or', 'because', 'as', 'until', 'while', 'of', 'at', 'by', 'for', 'with', 'about', 'against', 'between', 'into', 'through', 'during', 'before', 'after', 'above', 'below', 'to', 'from', 'up', 'down', 'in', 'out', 'on', 'off', 'over', 'under', 'again', 'further', 'then', 'once', 'here', 'there', 'when', 'where', 'why', 'how', 'all', 'any', 'both', 'each', 'few', 'more', 'most', 'other', 'some', 'such', 'no', 'nor', 'not', 'only', 'own', 'same', 'so', 'than', 'too', 'very', 's', 't', 'can', 'will', 'just', 'don', \"don't\", 'should', \"should've\", 'now', 'd', 'll', 'm', 'o', 're', 've', 'y', 'ain', 'aren', \"aren't\", 'couldn', \"couldn't\", 'didn', \"didn't\", 'doesn', \"doesn't\", 'hadn', \"hadn't\", 'hasn', \"hasn't\", 'haven', \"haven't\", 'isn', \"isn't\", 'ma', 'mightn', \"mightn't\", 'mustn', \"mustn't\", 'needn', \"needn't\", 'shan', \"shan't\", 'shouldn', \"shouldn't\", 'wasn', \"wasn't\", 'weren', \"weren't\", 'won', \"won't\", 'wouldn', \"wouldn't\"]\n"
     ]
    }
   ],
   "source": [
    "stopwords = nltk.corpus.stopwords.words('english')\n",
    "print(stopwords)"
   ]
  },
  {
   "cell_type": "code",
   "execution_count": 10,
   "id": "24518d65",
   "metadata": {},
   "outputs": [
    {
     "data": {
      "text/plain": [
       "['Who',\n",
       " 'would',\n",
       " 'thought',\n",
       " 'computer',\n",
       " 'programs',\n",
       " 'would',\n",
       " 'analyzing',\n",
       " 'human',\n",
       " 'sentiments']"
      ]
     },
     "execution_count": 10,
     "metadata": {},
     "output_type": "execute_result"
    }
   ],
   "source": [
    "[word for word in tokens if word not in stopwords]"
   ]
  },
  {
   "cell_type": "code",
   "execution_count": 11,
   "id": "5395bb07",
   "metadata": {},
   "outputs": [],
   "source": [
    "#nltk.download('wordnet')"
   ]
  },
  {
   "cell_type": "code",
   "execution_count": 12,
   "id": "80388a49",
   "metadata": {},
   "outputs": [
    {
     "name": "stdout",
     "output_type": "stream",
     "text": [
      "['Who', 'would', 'have', 'thought', 'that', 'computer', 'program', 'would', 'be', 'analyzing', 'human', 'sentiment']\n"
     ]
    }
   ],
   "source": [
    "from nltk.stem import WordNetLemmatizer\n",
    "text = \"Who would have thought that computer programs would be analyzing human sentiments\"\n",
    "tokens = word_tokenize(text)\n",
    "lemmatizer = WordNetLemmatizer()\n",
    "tokens=[lemmatizer.lemmatize(word) for word in tokens]\n",
    "print(tokens)"
   ]
  },
  {
   "cell_type": "code",
   "execution_count": 13,
   "id": "c53a1383",
   "metadata": {},
   "outputs": [
    {
     "name": "stdout",
     "output_type": "stream",
     "text": [
      "['who', 'would', 'have', 'thought', 'that', 'comput', 'program', 'would', 'be', 'analyz', 'human', 'sentiment']\n"
     ]
    }
   ],
   "source": [
    "from nltk.stem import PorterStemmer\n",
    "text = \"Who would have thought that computer programs would be analyzing human sentiments\"\n",
    "tokens=word_tokenize(text.lower())\n",
    "ps = PorterStemmer()\n",
    "tokens=[ps.stem(word) for word in tokens]\n",
    "print(tokens)"
   ]
  },
  {
   "cell_type": "code",
   "execution_count": 14,
   "id": "d84b66f8",
   "metadata": {},
   "outputs": [],
   "source": [
    "#nltk.download('averaged_perceptron_tagger')\n"
   ]
  },
  {
   "cell_type": "code",
   "execution_count": 15,
   "id": "a384815d",
   "metadata": {},
   "outputs": [
    {
     "data": {
      "text/plain": [
       "[('eat', 'NN')]"
      ]
     },
     "execution_count": 15,
     "metadata": {},
     "output_type": "execute_result"
    }
   ],
   "source": [
    "nltk.pos_tag([\"your\"])\n",
    "nltk.pos_tag([\"beautiful\"])\n",
    "nltk.pos_tag([\"eat\"])"
   ]
  },
  {
   "cell_type": "code",
   "execution_count": 16,
   "id": "26e3395a",
   "metadata": {},
   "outputs": [
    {
     "data": {
      "text/plain": [
       "[[('Usain', 'NN')],\n",
       " [('Bolt', 'NN')],\n",
       " [('is', 'VBZ')],\n",
       " [('the', 'DT')],\n",
       " [('fastest', 'JJS')],\n",
       " [('runner', 'NN')],\n",
       " [('in', 'IN')],\n",
       " [('the', 'DT')],\n",
       " [('world', 'NN')]]"
      ]
     },
     "execution_count": 16,
     "metadata": {},
     "output_type": "execute_result"
    }
   ],
   "source": [
    "text = \"Usain Bolt is the fastest runner in the world\"\n",
    "tokens = word_tokenize(text)\n",
    "[nltk.pos_tag([word]) for word in tokens]"
   ]
  },
  {
   "cell_type": "code",
   "execution_count": 17,
   "id": "9db0d128",
   "metadata": {},
   "outputs": [],
   "source": [
    "#nltk.download('tagsets') # need to download first time"
   ]
  },
  {
   "cell_type": "code",
   "execution_count": 18,
   "id": "91627f07",
   "metadata": {},
   "outputs": [
    {
     "name": "stdout",
     "output_type": "stream",
     "text": [
      "$: dollar\n",
      "    $ -$ --$ A$ C$ HK$ M$ NZ$ S$ U.S.$ US$\n",
      "'': closing quotation mark\n",
      "    ' ''\n",
      "(: opening parenthesis\n",
      "    ( [ {\n",
      "): closing parenthesis\n",
      "    ) ] }\n",
      ",: comma\n",
      "    ,\n",
      "--: dash\n",
      "    --\n",
      ".: sentence terminator\n",
      "    . ! ?\n",
      ":: colon or ellipsis\n",
      "    : ; ...\n",
      "CC: conjunction, coordinating\n",
      "    & 'n and both but either et for less minus neither nor or plus so\n",
      "    therefore times v. versus vs. whether yet\n",
      "CD: numeral, cardinal\n",
      "    mid-1890 nine-thirty forty-two one-tenth ten million 0.5 one forty-\n",
      "    seven 1987 twenty '79 zero two 78-degrees eighty-four IX '60s .025\n",
      "    fifteen 271,124 dozen quintillion DM2,000 ...\n",
      "DT: determiner\n",
      "    all an another any both del each either every half la many much nary\n",
      "    neither no some such that the them these this those\n",
      "EX: existential there\n",
      "    there\n",
      "FW: foreign word\n",
      "    gemeinschaft hund ich jeux habeas Haementeria Herr K'ang-si vous\n",
      "    lutihaw alai je jour objets salutaris fille quibusdam pas trop Monte\n",
      "    terram fiche oui corporis ...\n",
      "IN: preposition or conjunction, subordinating\n",
      "    astride among uppon whether out inside pro despite on by throughout\n",
      "    below within for towards near behind atop around if like until below\n",
      "    next into if beside ...\n",
      "JJ: adjective or numeral, ordinal\n",
      "    third ill-mannered pre-war regrettable oiled calamitous first separable\n",
      "    ectoplasmic battery-powered participatory fourth still-to-be-named\n",
      "    multilingual multi-disciplinary ...\n",
      "JJR: adjective, comparative\n",
      "    bleaker braver breezier briefer brighter brisker broader bumper busier\n",
      "    calmer cheaper choosier cleaner clearer closer colder commoner costlier\n",
      "    cozier creamier crunchier cuter ...\n",
      "JJS: adjective, superlative\n",
      "    calmest cheapest choicest classiest cleanest clearest closest commonest\n",
      "    corniest costliest crassest creepiest crudest cutest darkest deadliest\n",
      "    dearest deepest densest dinkiest ...\n",
      "LS: list item marker\n",
      "    A A. B B. C C. D E F First G H I J K One SP-44001 SP-44002 SP-44005\n",
      "    SP-44007 Second Third Three Two * a b c d first five four one six three\n",
      "    two\n",
      "MD: modal auxiliary\n",
      "    can cannot could couldn't dare may might must need ought shall should\n",
      "    shouldn't will would\n",
      "NN: noun, common, singular or mass\n",
      "    common-carrier cabbage knuckle-duster Casino afghan shed thermostat\n",
      "    investment slide humour falloff slick wind hyena override subhumanity\n",
      "    machinist ...\n",
      "NNP: noun, proper, singular\n",
      "    Motown Venneboerger Czestochwa Ranzer Conchita Trumplane Christos\n",
      "    Oceanside Escobar Kreisler Sawyer Cougar Yvette Ervin ODI Darryl CTCA\n",
      "    Shannon A.K.C. Meltex Liverpool ...\n",
      "NNPS: noun, proper, plural\n",
      "    Americans Americas Amharas Amityvilles Amusements Anarcho-Syndicalists\n",
      "    Andalusians Andes Andruses Angels Animals Anthony Antilles Antiques\n",
      "    Apache Apaches Apocrypha ...\n",
      "NNS: noun, common, plural\n",
      "    undergraduates scotches bric-a-brac products bodyguards facets coasts\n",
      "    divestitures storehouses designs clubs fragrances averages\n",
      "    subjectivists apprehensions muses factory-jobs ...\n",
      "PDT: pre-determiner\n",
      "    all both half many quite such sure this\n",
      "POS: genitive marker\n",
      "    ' 's\n",
      "PRP: pronoun, personal\n",
      "    hers herself him himself hisself it itself me myself one oneself ours\n",
      "    ourselves ownself self she thee theirs them themselves they thou thy us\n",
      "PRP$: pronoun, possessive\n",
      "    her his mine my our ours their thy your\n",
      "RB: adverb\n",
      "    occasionally unabatingly maddeningly adventurously professedly\n",
      "    stirringly prominently technologically magisterially predominately\n",
      "    swiftly fiscally pitilessly ...\n",
      "RBR: adverb, comparative\n",
      "    further gloomier grander graver greater grimmer harder harsher\n",
      "    healthier heavier higher however larger later leaner lengthier less-\n",
      "    perfectly lesser lonelier longer louder lower more ...\n",
      "RBS: adverb, superlative\n",
      "    best biggest bluntest earliest farthest first furthest hardest\n",
      "    heartiest highest largest least less most nearest second tightest worst\n",
      "RP: particle\n",
      "    aboard about across along apart around aside at away back before behind\n",
      "    by crop down ever fast for forth from go high i.e. in into just later\n",
      "    low more off on open out over per pie raising start teeth that through\n",
      "    under unto up up-pp upon whole with you\n",
      "SYM: symbol\n",
      "    % & ' '' ''. ) ). * + ,. < = > @ A[fj] U.S U.S.S.R * ** ***\n",
      "TO: \"to\" as preposition or infinitive marker\n",
      "    to\n",
      "UH: interjection\n",
      "    Goodbye Goody Gosh Wow Jeepers Jee-sus Hubba Hey Kee-reist Oops amen\n",
      "    huh howdy uh dammit whammo shucks heck anyways whodunnit honey golly\n",
      "    man baby diddle hush sonuvabitch ...\n",
      "VB: verb, base form\n",
      "    ask assemble assess assign assume atone attention avoid bake balkanize\n",
      "    bank begin behold believe bend benefit bevel beware bless boil bomb\n",
      "    boost brace break bring broil brush build ...\n",
      "VBD: verb, past tense\n",
      "    dipped pleaded swiped regummed soaked tidied convened halted registered\n",
      "    cushioned exacted snubbed strode aimed adopted belied figgered\n",
      "    speculated wore appreciated contemplated ...\n",
      "VBG: verb, present participle or gerund\n",
      "    telegraphing stirring focusing angering judging stalling lactating\n",
      "    hankerin' alleging veering capping approaching traveling besieging\n",
      "    encrypting interrupting erasing wincing ...\n",
      "VBN: verb, past participle\n",
      "    multihulled dilapidated aerosolized chaired languished panelized used\n",
      "    experimented flourished imitated reunifed factored condensed sheared\n",
      "    unsettled primed dubbed desired ...\n",
      "VBP: verb, present tense, not 3rd person singular\n",
      "    predominate wrap resort sue twist spill cure lengthen brush terminate\n",
      "    appear tend stray glisten obtain comprise detest tease attract\n",
      "    emphasize mold postpone sever return wag ...\n",
      "VBZ: verb, present tense, 3rd person singular\n",
      "    bases reconstructs marks mixes displeases seals carps weaves snatches\n",
      "    slumps stretches authorizes smolders pictures emerges stockpiles\n",
      "    seduces fizzes uses bolsters slaps speaks pleads ...\n",
      "WDT: WH-determiner\n",
      "    that what whatever which whichever\n",
      "WP: WH-pronoun\n",
      "    that what whatever whatsoever which who whom whosoever\n",
      "WP$: WH-pronoun, possessive\n",
      "    whose\n",
      "WRB: Wh-adverb\n",
      "    how however whence whenever where whereby whereever wherein whereof why\n",
      "``: opening quotation mark\n",
      "    ` ``\n"
     ]
    }
   ],
   "source": [
    "nltk.help.upenn_tagset()"
   ]
  },
  {
   "cell_type": "code",
   "execution_count": 19,
   "id": "3b5432f6",
   "metadata": {},
   "outputs": [],
   "source": [
    "#!pip install textblob"
   ]
  },
  {
   "cell_type": "code",
   "execution_count": 20,
   "id": "b6b47de7",
   "metadata": {},
   "outputs": [
    {
     "data": {
      "text/plain": [
       "Sentiment(polarity=-1.0, subjectivity=1.0)"
      ]
     },
     "execution_count": 20,
     "metadata": {},
     "output_type": "execute_result"
    }
   ],
   "source": [
    "from textblob import TextBlob\n",
    "TextBlob(\"I love pizza\").sentiment\n",
    "TextBlob(\"The weather is excellent\").sentiment\n",
    "TextBlob(\"What a terrible thing to say\").sentiment"
   ]
  },
  {
   "cell_type": "code",
   "execution_count": 21,
   "id": "490a99a3",
   "metadata": {},
   "outputs": [],
   "source": [
    "#!pip install googletrans\n",
    "#!pip install google_trans_new\n",
    "#!pip install -U deep-translator"
   ]
  },
  {
   "cell_type": "code",
   "execution_count": 22,
   "id": "759ea01b",
   "metadata": {},
   "outputs": [
    {
     "name": "stdout",
     "output_type": "stream",
     "text": [
      "Qui aurait cru que la traduction pouvait être amusante\n",
      "谁知道翻译也可以很有趣\n",
      "कौन जानता था कि अनुवाद मज़ेदार हो सकता है\n"
     ]
    },
    {
     "data": {
      "text/plain": [
       "[('The', 'DT'),\n",
       " ('global', 'JJ'),\n",
       " ('economy', 'NN'),\n",
       " ('is', 'VBZ'),\n",
       " ('expected', 'VBN'),\n",
       " ('to', 'TO'),\n",
       " ('grow', 'VB'),\n",
       " ('this', 'DT'),\n",
       " ('year', 'NN')]"
      ]
     },
     "execution_count": 22,
     "metadata": {},
     "output_type": "execute_result"
    }
   ],
   "source": [
    "'''\n",
    "textblob.translate metho has been deprecated so we are using Googletransator method from deep translator\n",
    "'''\n",
    "from deep_translator import GoogleTranslator\n",
    "\n",
    "languages = ['fr','zh-CN','hi']\n",
    "for language in languages:\n",
    "    translator = GoogleTranslator(source= 'auto', target=language)\n",
    "    print(translator.translate(\"Who knew translation could be fun\"))  \n",
    "    \n",
    "TextBlob(\"The global economy is expected to grow this year\").tags"
   ]
  },
  {
   "cell_type": "code",
   "execution_count": 23,
   "id": "6570a18e",
   "metadata": {},
   "outputs": [],
   "source": [
    "#!pip install vaderSentiment"
   ]
  },
  {
   "cell_type": "code",
   "execution_count": 24,
   "id": "817151a7",
   "metadata": {
    "scrolled": true
   },
   "outputs": [
    {
     "data": {
      "text/plain": [
       "{'neg': 0.0, 'neu': 0.604, 'pos': 0.396, 'compound': 0.5079}"
      ]
     },
     "execution_count": 24,
     "metadata": {},
     "output_type": "execute_result"
    }
   ],
   "source": [
    "from vaderSentiment.vaderSentiment import SentimentIntensityAnalyzer\n",
    "analyser = SentimentIntensityAnalyzer()\n",
    "\n",
    "analyser.polarity_scores(\"This book is very good\")\n",
    "analyser.polarity_scores(\"OMG! The book is so cool\")"
   ]
  },
  {
   "cell_type": "markdown",
   "id": "fe527d78",
   "metadata": {},
   "source": [
    "# Summary\n",
    "In this assignment we used few of the important python libraries that are crucial for NLP tasks. Here are the libraries we used in this assignment and thier brief description:\n",
    "\n",
    " ## 1. Pandas\n",
    "> Pandas is widely used library in python specially for Machine learning and Data science tasks. It is handy for data reading and transformation using dataframe and methods associated with it. \n",
    "\n",
    " ## 2. NLTK [Natural Lanuage Toolkit Library] \n",
    " > NLTK is one of the most popular Python libraries  for natural language processing. NLTK provides lots of natual language processing methods and linguistinc data required for NLP tasks below are few of the NLTK features.\n",
    " \n",
    "> ### 2.1. NLTK corpora\n",
    "     >  A corpus is a large body of text or linguistic data and is very important in NLP research for application development and testing. NLTK allows users to access over 50 corpora and  lexical resources. We can import any of the available corpora into our program and use NLTK functions to analyze the text in the imported corpus.\n",
    "     \n",
    "> ### 2.2. Text processing\n",
    "     >  NLTK provides various functions that help us transform the text into vectors. The most basic NLTK function for this purpose is tokenization, lemmatization and stemming.  tokenization splits a document into a list of units. These units could be words, alphabets, or sentences.lemmatization and stemming are used to reduce words to their root form (e.g: programs to program,analyzing to analyz). lemmatization has pre built set of root words whereas stemming defines somre rules based on which words are reduced to their root form. example of stemming is removing suffix such as ing.\n",
    "     \n",
    "> ### 2.3 POS tagging [Part of speech tagging]\n",
    "     >  Part of speech tagging (POS tagging) identifies the part of speech (noun, verb, adverb, and so on) of each word in a sentence. It is a crucial step for many NLP applications since, by identifying the POS of a word, we can deduce its contextual meaning.\n",
    "     \n",
    "## 3. TextBlob\n",
    "> Textblob is a popular library used for sentiment analysis, part of speech tagging, translation (google translate api has been deprecated in latest version), and so on. It is built on top of other libraries, including NLTK, and provides a very easy-to-use interface, making it a must-have for NLP beginners.\n",
    "\n",
    "> ### 3.1. Sentiment analysis\n",
    " > Sentiment analysis is an important area of research within NLP that aims to . The Textblob library allows users to analyze text and assess sentiment of a given piece of text in a very convenient way. We can calculate sentiment by passing the text to\n",
    "sentiment module of the library.\n",
    "\n",
    " >The sentiment module outputs a tuple with the polarity score and subjectivity score. The polarity score ranges from -1 to 1, with -1 being the most negative sentiment and 1 being the most positive statement. The subjectivity score ranges from 0 to 1, with a score of 0 implying that the statement is factual, whereas a score of 1 implies a highly subjective  statement.\n",
    " \n",
    "## 4.  Machine translation [deep_translator]\n",
    "> deep_translator is flexible FREE and UNLIMITED tool to translate between different languages in a simple way using multiple translators. We can use more than 10 translater including GoogleTranslator, ChatGptTranslator,MicrosoftTranslator etc by simply imprting them from deep_translator library. \n",
    "\n",
    "## 5. VADER [ Valence Aware Dictionary and sEntiment Reasoner (VADER) ]\n",
    "> VADER is one of the latest and powerful sentiment analysis tool. It improves on other sentiment analyzers by including colloquial language terms, emoticons, slang, acronyms, and so on, which are used generously in social media. It also factors in the intensity of words rather than classifying them as simply positive or negative"
   ]
  }
 ],
 "metadata": {
  "kernelspec": {
   "display_name": "Python 3 (ipykernel)",
   "language": "python",
   "name": "python3"
  },
  "language_info": {
   "codemirror_mode": {
    "name": "ipython",
    "version": 3
   },
   "file_extension": ".py",
   "mimetype": "text/x-python",
   "name": "python",
   "nbconvert_exporter": "python",
   "pygments_lexer": "ipython3",
   "version": "3.11.4"
  }
 },
 "nbformat": 4,
 "nbformat_minor": 5
}
