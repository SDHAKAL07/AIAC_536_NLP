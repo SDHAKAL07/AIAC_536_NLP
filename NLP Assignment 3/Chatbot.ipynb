{
 "cells": [
  {
   "cell_type": "code",
   "execution_count": 1,
   "id": "5c12f18c",
   "metadata": {},
   "outputs": [],
   "source": [
    "#!pip install scikit-learn\n",
    "import numpy as np\n",
    "from sklearn.feature_extraction.text import TfidfTransformer\n",
    "from sklearn.metrics.pairwise import cosine_similarity\n",
    "from sklearn.feature_extraction.text import CountVectorizer\n",
    "\n",
    "\n",
    "#loading questions and answers in separate lists\n",
    "import ast \n",
    "questions = []\n",
    "answers = [] \n",
    "with open(\"C:\\\\Users\\\\Leapfrog\\\\Desktop\\\\Others\\\\Mtech AI\\\\AIAC_536_NLP\\\\AIAC_536_NLP\\\\NLP Assignment 3\\\\qa_Electronics.json\",'r') as f:\n",
    "    for line in f:\n",
    "        data = ast.literal_eval(line)\n",
    "        questions.append(data['question'].lower())\n",
    "        answers.append(data['answer'].lower())"
   ]
  },
  {
   "cell_type": "code",
   "execution_count": 2,
   "id": "b8ccdc26",
   "metadata": {},
   "outputs": [],
   "source": [
    "# tokenize the text and convert data in matrix format\n",
    "from sklearn.feature_extraction.text import CountVectorizer\n",
    "vectorizer = CountVectorizer(stop_words='english')\n",
    "X_vec = vectorizer.fit_transform(questions)"
   ]
  },
  {
   "cell_type": "code",
   "execution_count": 3,
   "id": "f18c7af1",
   "metadata": {},
   "outputs": [],
   "source": [
    "# Transform data by applying term frequency inverse document frequency (TF-IDF) \n",
    "tfidf = TfidfTransformer()\n",
    "X_tfidf = tfidf.fit_transform(X_vec)"
   ]
  },
  {
   "cell_type": "code",
   "execution_count": 4,
   "id": "3d9fb991",
   "metadata": {},
   "outputs": [],
   "source": [
    "def conversation(im):\n",
    "    global tfidf, answers, X_tfidf\n",
    "    Y_vec = vectorizer.transform(im)\n",
    "    Y_tfidf = tfidf.fit_transform(Y_vec)\n",
    "    cos_sim = np.rad2deg(np.arccos(max(cosine_similarity(Y_tfidf, X_tfidf)[0])))\n",
    "    if cos_sim > 60 :\n",
    "        return \"sorry, I did not quite understand that\"\n",
    "    else:\n",
    "        return answers[np.argmax(cosine_similarity(Y_tfidf, X_tfidf)[0])]\n",
    "\n",
    "def main():\n",
    "    usr = input(\"Please enter your username: \")\n",
    "    print(\"support: Hi, welcome to Q&A support. How can I help you?\")\n",
    "    while True:\n",
    "        im = input(\"{}: \".format(usr))\n",
    "        if im.lower() == 'bye':\n",
    "            print(\"Q&A support: bye!\")\n",
    "            break\n",
    "        else:\n",
    "            print(\"Q&A support: \"+conversation([im]))"
   ]
  },
  {
   "cell_type": "code",
   "execution_count": 5,
   "id": "73618191",
   "metadata": {},
   "outputs": [
    {
     "name": "stdout",
     "output_type": "stream",
     "text": [
      "Please enter your username: Suman\n",
      "support: Hi, welcome to Q&A support. How can I help you?\n",
      "Suman: could you help me to buy new laptop.\n",
      "Q&A support: yes\n",
      "Suman: which is the best macbook model in market right now?\n",
      "Q&A support: i wouldn't recommend the world. it picked up courses pretty well, but the screen locked up after 11/2 years. for $250, i expected more. i recommend the bushnell x watch\n",
      "Suman: sorry, I did not quite understand that\n",
      "Q&A support: sorry, I did not quite understand that\n",
      "Suman: bye\n",
      "Q&A support: bye!\n"
     ]
    }
   ],
   "source": [
    "\n",
    "main()"
   ]
  },
  {
   "cell_type": "markdown",
   "id": "0c0f133e",
   "metadata": {},
   "source": [
    "## Summary\n",
    "\n",
    "In this script we develop simple chatbot using TF-IDF (Term Frequency-Inverse Document Frequency) and cosine similarity to match user questions with preloaded answers.It reads a JSON file containing questions and answers, tokenizes the text, and converts it into a matrix format using the CountVectorizer with English stop words removed. This matrix is then transformed using TF-IDF to normalize the data. The conversation function computes the cosine similarity between the user's input and the preloaded questions to find the most relevant answer. If the similarity is below a threshold, it returns a default message indicating it didn't understand the question. The main function initiates an interactive session where users can input their questions and receive responses until they type \"bye\" to exit."
   ]
  },
  {
   "cell_type": "code",
   "execution_count": null,
   "id": "16749090",
   "metadata": {},
   "outputs": [],
   "source": []
  },
  {
   "cell_type": "code",
   "execution_count": null,
   "id": "676d9e87",
   "metadata": {},
   "outputs": [],
   "source": []
  }
 ],
 "metadata": {
  "kernelspec": {
   "display_name": "Python 3 (ipykernel)",
   "language": "python",
   "name": "python3"
  },
  "language_info": {
   "codemirror_mode": {
    "name": "ipython",
    "version": 3
   },
   "file_extension": ".py",
   "mimetype": "text/x-python",
   "name": "python",
   "nbconvert_exporter": "python",
   "pygments_lexer": "ipython3",
   "version": "3.11.4"
  }
 },
 "nbformat": 4,
 "nbformat_minor": 5
}
