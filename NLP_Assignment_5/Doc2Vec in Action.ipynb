{
 "cells": [
  {
   "cell_type": "markdown",
   "id": "6dc946b8",
   "metadata": {},
   "source": [
    "## Building paragraph vectors using Doc2Vec\n"
   ]
  },
  {
   "cell_type": "markdown",
   "id": "12d78406",
   "metadata": {},
   "source": [
    "### Import common text corpus, Doc2Vec algorithm and Tagged Document functionality from Gensim\n"
   ]
  },
  {
   "cell_type": "code",
   "execution_count": 1,
   "id": "af28eee3",
   "metadata": {},
   "outputs": [],
   "source": [
    "from gensim.test.utils import common_texts\n",
    "from gensim.models.doc2vec import Doc2Vec, TaggedDocument"
   ]
  },
  {
   "cell_type": "markdown",
   "id": "55a55dce",
   "metadata": {},
   "source": [
    "## Corpus on which training will happen\n"
   ]
  },
  {
   "cell_type": "code",
   "execution_count": 2,
   "id": "d76ce091",
   "metadata": {},
   "outputs": [
    {
     "data": {
      "text/plain": [
       "[['human', 'interface', 'computer'],\n",
       " ['survey', 'user', 'computer', 'system', 'response', 'time'],\n",
       " ['eps', 'user', 'interface', 'system'],\n",
       " ['system', 'human', 'system', 'eps'],\n",
       " ['user', 'response', 'time'],\n",
       " ['trees'],\n",
       " ['graph', 'trees'],\n",
       " ['graph', 'minors', 'trees'],\n",
       " ['graph', 'minors', 'survey']]"
      ]
     },
     "execution_count": 2,
     "metadata": {},
     "output_type": "execute_result"
    }
   ],
   "source": [
    "common_texts\n"
   ]
  },
  {
   "cell_type": "markdown",
   "id": "17f781e7",
   "metadata": {},
   "source": [
    "## Building Tagged Documents from the corpus as that's an expectation from the Doc2Vec model\n"
   ]
  },
  {
   "cell_type": "code",
   "execution_count": 3,
   "id": "b839e676",
   "metadata": {},
   "outputs": [],
   "source": [
    "documents = [TaggedDocument(doc, [i]) for i, doc in enumerate(common_texts)]\n"
   ]
  },
  {
   "cell_type": "code",
   "execution_count": 4,
   "id": "cec50617",
   "metadata": {},
   "outputs": [
    {
     "data": {
      "text/plain": [
       "[TaggedDocument(words=['human', 'interface', 'computer'], tags=[0]),\n",
       " TaggedDocument(words=['survey', 'user', 'computer', 'system', 'response', 'time'], tags=[1]),\n",
       " TaggedDocument(words=['eps', 'user', 'interface', 'system'], tags=[2]),\n",
       " TaggedDocument(words=['system', 'human', 'system', 'eps'], tags=[3]),\n",
       " TaggedDocument(words=['user', 'response', 'time'], tags=[4]),\n",
       " TaggedDocument(words=['trees'], tags=[5]),\n",
       " TaggedDocument(words=['graph', 'trees'], tags=[6]),\n",
       " TaggedDocument(words=['graph', 'minors', 'trees'], tags=[7]),\n",
       " TaggedDocument(words=['graph', 'minors', 'survey'], tags=[8])]"
      ]
     },
     "execution_count": 4,
     "metadata": {},
     "output_type": "execute_result"
    }
   ],
   "source": [
    "documents\n"
   ]
  },
  {
   "cell_type": "markdown",
   "id": "bb355374",
   "metadata": {},
   "source": [
    "## Building a basic Doc2Vec model\n"
   ]
  },
  {
   "cell_type": "code",
   "execution_count": 5,
   "id": "a2c81ef3",
   "metadata": {},
   "outputs": [],
   "source": [
    "model = Doc2Vec(documents, vector_size=5, min_count=1, workers=4, epochs = 40)\n",
    "model.train(documents, total_examples=model.corpus_count, epochs=model.epochs)"
   ]
  },
  {
   "cell_type": "markdown",
   "id": "ea09ab7d",
   "metadata": {},
   "source": [
    "## What's the vector size (should be 5 as we specified it on top)\n"
   ]
  },
  {
   "cell_type": "code",
   "execution_count": 6,
   "id": "2eea0e13",
   "metadata": {},
   "outputs": [
    {
     "data": {
      "text/plain": [
       "5"
      ]
     },
     "execution_count": 6,
     "metadata": {},
     "output_type": "execute_result"
    }
   ],
   "source": [
    "model.vector_size\n"
   ]
  },
  {
   "cell_type": "markdown",
   "id": "caf68bc8",
   "metadata": {},
   "source": [
    "## How many document vectors did we train?\n"
   ]
  },
  {
   "cell_type": "code",
   "execution_count": 7,
   "id": "09c8ede1",
   "metadata": {},
   "outputs": [
    {
     "data": {
      "text/plain": [
       "9"
      ]
     },
     "execution_count": 7,
     "metadata": {},
     "output_type": "execute_result"
    }
   ],
   "source": [
    "len(model.dv)\n"
   ]
  },
  {
   "cell_type": "markdown",
   "id": "3d35a68f",
   "metadata": {},
   "source": [
    "## Let's check out the vocabulary information for the model we built\n"
   ]
  },
  {
   "cell_type": "code",
   "execution_count": 8,
   "id": "e2153606",
   "metadata": {},
   "outputs": [
    {
     "data": {
      "text/plain": [
       "12"
      ]
     },
     "execution_count": 8,
     "metadata": {},
     "output_type": "execute_result"
    }
   ],
   "source": [
    "len(model.wv)\n"
   ]
  },
  {
   "cell_type": "code",
   "execution_count": 9,
   "id": "cf5b8ed9",
   "metadata": {},
   "outputs": [
    {
     "data": {
      "text/plain": [
       "{'system': 0,\n",
       " 'graph': 1,\n",
       " 'trees': 2,\n",
       " 'user': 3,\n",
       " 'minors': 4,\n",
       " 'eps': 5,\n",
       " 'time': 6,\n",
       " 'response': 7,\n",
       " 'survey': 8,\n",
       " 'computer': 9,\n",
       " 'interface': 10,\n",
       " 'human': 11}"
      ]
     },
     "execution_count": 9,
     "metadata": {},
     "output_type": "execute_result"
    }
   ],
   "source": [
    "model.wv.key_to_index"
   ]
  },
  {
   "cell_type": "markdown",
   "id": "594e5075",
   "metadata": {},
   "source": [
    "## Let's infer a vector based on the trained Doc2Vec model\n"
   ]
  },
  {
   "cell_type": "code",
   "execution_count": 10,
   "id": "ccc4ad6e",
   "metadata": {},
   "outputs": [
    {
     "name": "stdout",
     "output_type": "stream",
     "text": [
      "[-0.07132846 -0.07293598  0.08171386 -0.01781811  0.08268694]\n"
     ]
    }
   ],
   "source": [
    "vector = model.infer_vector(['user', 'interface', 'for', 'computer'])\n",
    "print(vector)"
   ]
  },
  {
   "cell_type": "markdown",
   "id": "40f2d2f2",
   "metadata": {},
   "source": [
    "## Building a new model changing vector size and minimum count eligibility\n"
   ]
  },
  {
   "cell_type": "code",
   "execution_count": 11,
   "id": "01d7219c",
   "metadata": {},
   "outputs": [],
   "source": [
    "model = Doc2Vec(documents, vector_size=50, min_count=3, epochs=40)\n",
    "model.train(documents, total_examples=model.corpus_count, epochs=model.epochs)"
   ]
  },
  {
   "cell_type": "code",
   "execution_count": 12,
   "id": "a9f3ebe7",
   "metadata": {},
   "outputs": [
    {
     "data": {
      "text/plain": [
       "4"
      ]
     },
     "execution_count": 12,
     "metadata": {},
     "output_type": "execute_result"
    }
   ],
   "source": [
    "len(model.wv.key_to_index)"
   ]
  },
  {
   "cell_type": "code",
   "execution_count": 13,
   "id": "0fb1729f",
   "metadata": {},
   "outputs": [
    {
     "data": {
      "text/plain": [
       "{'system': 0, 'graph': 1, 'trees': 2, 'user': 3}"
      ]
     },
     "execution_count": 13,
     "metadata": {},
     "output_type": "execute_result"
    }
   ],
   "source": [
    "model.wv.key_to_index"
   ]
  },
  {
   "cell_type": "code",
   "execution_count": 14,
   "id": "331fe2f4",
   "metadata": {},
   "outputs": [
    {
     "name": "stdout",
     "output_type": "stream",
     "text": [
      "[-6.9008539e-03 -7.0250016e-03  8.7858057e-03 -1.2729048e-03\n",
      "  8.1649534e-03  8.9995340e-03  4.6824482e-03  9.7706914e-03\n",
      "  6.0688327e-03 -4.4537876e-05  9.1232909e-03 -5.0985296e-03\n",
      "  6.6826018e-03 -9.4934461e-05 -3.7608044e-03  5.0448021e-04\n",
      "  1.6480876e-03  1.8674725e-03 -7.7308193e-03  2.3817269e-03\n",
      "  7.8316070e-03  2.1804986e-03 -7.0076920e-03 -4.8691514e-03\n",
      "  3.1949650e-03  6.4207390e-03 -5.5920205e-04  7.0257029e-03\n",
      "  8.7348716e-03  4.3393727e-03  3.6249030e-04  4.8182695e-03\n",
      "  2.6362271e-03 -7.7965776e-03  5.8811666e-03  5.6095268e-03\n",
      " -2.7122928e-03 -1.9781210e-03  5.1145451e-03 -1.1415991e-03\n",
      " -8.7102605e-03 -5.3913710e-03 -9.2915287e-03 -7.6096877e-03\n",
      "  2.2767698e-03  7.8267222e-03  9.1777360e-03  9.2491861e-03\n",
      "  6.1940067e-03  8.1247650e-03]\n"
     ]
    }
   ],
   "source": [
    "vector = model.infer_vector(['user', 'interface', 'for', 'computer'])\n",
    "print(vector)"
   ]
  },
  {
   "cell_type": "markdown",
   "id": "7fedafe2",
   "metadata": {},
   "source": [
    "## Doc2Vec built next would be based on the distributed memory model (dm=1)\n"
   ]
  },
  {
   "cell_type": "code",
   "execution_count": 15,
   "id": "17c7b20b",
   "metadata": {},
   "outputs": [],
   "source": [
    "model = Doc2Vec(documents, vector_size=50, min_count=2, epochs=40, dm=1)\n",
    "model.train(documents, total_examples=model.corpus_count, epochs=model.epochs)"
   ]
  },
  {
   "cell_type": "code",
   "execution_count": 16,
   "id": "9d1356ab",
   "metadata": {},
   "outputs": [
    {
     "name": "stdout",
     "output_type": "stream",
     "text": [
      "[-7.5380853e-03 -7.1503585e-03  8.3977208e-03 -1.2937490e-03\n",
      "  7.9445299e-03  9.1809472e-03  4.4372561e-03  1.0230061e-02\n",
      "  5.4555195e-03  2.6790897e-04  9.4502801e-03 -4.5529213e-03\n",
      "  6.9142780e-03 -4.2968336e-04 -3.4684092e-03 -2.4290899e-05\n",
      "  1.6607591e-03  2.1289815e-03 -8.3805127e-03  2.2666617e-03\n",
      "  7.4522351e-03  2.2275292e-03 -7.2887558e-03 -4.6946849e-03\n",
      "  3.0986574e-03  6.4599975e-03 -9.3866157e-04  6.3878996e-03\n",
      "  8.8160178e-03  4.0722988e-03  9.2795381e-04  5.2868393e-03\n",
      "  1.9848894e-03 -7.9225171e-03  5.8491481e-03  6.0383268e-03\n",
      " -2.8408356e-03 -2.5716196e-03  5.3137038e-03 -1.2146889e-03\n",
      " -9.1439392e-03 -4.9629640e-03 -9.4759008e-03 -8.2118576e-03\n",
      "  1.9457844e-03  8.1711570e-03  9.4537018e-03  9.2346901e-03\n",
      "  6.6101081e-03  7.9657305e-03]\n"
     ]
    }
   ],
   "source": [
    "vector = model.infer_vector(['user', 'interface', 'for', 'computer'])\n",
    "print(vector)"
   ]
  },
  {
   "cell_type": "markdown",
   "id": "0020ddd5",
   "metadata": {},
   "source": [
    "## Doc2Vec built next would be based on the distributed bag of words approach (dm=0)\n"
   ]
  },
  {
   "cell_type": "code",
   "execution_count": 17,
   "id": "4ccec919",
   "metadata": {},
   "outputs": [],
   "source": [
    "model = Doc2Vec(documents, vector_size=50, min_count=2, epochs=40, dm=0)\n",
    "model.train(documents, total_examples=model.corpus_count, epochs=model.epochs)"
   ]
  },
  {
   "cell_type": "code",
   "execution_count": 18,
   "id": "bfbe948d",
   "metadata": {},
   "outputs": [
    {
     "name": "stdout",
     "output_type": "stream",
     "text": [
      "[-0.00885652 -0.00737746  0.00779405 -0.00163616  0.00748496  0.00959941\n",
      "  0.00393247  0.0112919   0.00479682  0.00106699  0.00985868 -0.00359571\n",
      "  0.00739341 -0.0008992  -0.00273496 -0.00077877  0.00098837  0.00230627\n",
      " -0.0090192   0.00248175  0.00682581  0.00227657 -0.00804985 -0.00464084\n",
      "  0.00282642  0.00668496 -0.00139884  0.00522772  0.00881779  0.00385717\n",
      "  0.00198561  0.00627777  0.0007406  -0.00755929  0.00562679  0.00711951\n",
      " -0.00333192 -0.00325486  0.00564324 -0.00143247 -0.00990125 -0.00412399\n",
      " -0.00981668 -0.00903562  0.0008811   0.00901486  0.01003559  0.00939979\n",
      "  0.00729895  0.00765798]\n"
     ]
    }
   ],
   "source": [
    "vector = model.infer_vector(['user', 'interface', 'for', 'computer'])\n",
    "print(vector)"
   ]
  },
  {
   "cell_type": "markdown",
   "id": "0cf7bd99",
   "metadata": {},
   "source": [
    "## Adding the window size which controls the maximum distance between current and predicted word"
   ]
  },
  {
   "cell_type": "code",
   "execution_count": 19,
   "id": "e20a535b",
   "metadata": {},
   "outputs": [],
   "source": [
    "model = Doc2Vec(documents, vector_size=50, min_count=2, epochs=40, window=2, dm=1, alpha=0.3, min_alpha=0.05)\n",
    "model.train(documents, total_examples=model.corpus_count, epochs=model.epochs)"
   ]
  },
  {
   "cell_type": "code",
   "execution_count": 20,
   "id": "21ff4f18",
   "metadata": {},
   "outputs": [
    {
     "name": "stdout",
     "output_type": "stream",
     "text": [
      "[-0.32081848 -0.07034425 -0.19386359 -0.0073753  -0.12657149  0.12652932\n",
      " -0.16216983  0.19491796 -0.2673311   0.11826707  0.24494976  0.26303568\n",
      "  0.12428475 -0.24816737  0.16992673 -0.3462673  -0.07880609  0.1366772\n",
      " -0.34724015 -0.0381703  -0.06368154  0.07221834 -0.17794438  0.16144235\n",
      " -0.04233294  0.00254776 -0.21198331 -0.2794619   0.06668678 -0.18528673\n",
      "  0.32997644  0.22898008 -0.34520456 -0.08478537 -0.08134042  0.18606313\n",
      " -0.02795762 -0.18381299 -0.01800981 -0.01356451 -0.13271166  0.13744706\n",
      " -0.00462981 -0.3213552  -0.06995157  0.1747461   0.19557606 -0.00258067\n",
      "  0.24483562 -0.16757362]\n"
     ]
    }
   ],
   "source": [
    "vector = model.infer_vector(['user', 'interface', 'for', 'computer'])\n",
    "print(vector)"
   ]
  },
  {
   "cell_type": "markdown",
   "id": "74a834c7",
   "metadata": {},
   "source": [
    "## Adding initial learning rate and to what value should the learning rate drop to linearly over training (alpha and min_alpha)"
   ]
  },
  {
   "cell_type": "code",
   "execution_count": 21,
   "id": "73381d81",
   "metadata": {},
   "outputs": [],
   "source": [
    "model = Doc2Vec(documents, vector_size=50, min_count=2, epochs=40, window=2, dm=1, alpha=0.3, min_alpha=0.05)\n",
    "model.train(documents, total_examples=model.corpus_count, epochs=model.epochs)"
   ]
  },
  {
   "cell_type": "code",
   "execution_count": 22,
   "id": "7ac61941",
   "metadata": {},
   "outputs": [
    {
     "name": "stdout",
     "output_type": "stream",
     "text": [
      "[-0.32081848 -0.07034425 -0.19386359 -0.0073753  -0.12657149  0.12652932\n",
      " -0.16216983  0.19491796 -0.2673311   0.11826707  0.24494976  0.26303568\n",
      "  0.12428475 -0.24816737  0.16992673 -0.3462673  -0.07880609  0.1366772\n",
      " -0.34724015 -0.0381703  -0.06368154  0.07221834 -0.17794438  0.16144235\n",
      " -0.04233294  0.00254776 -0.21198331 -0.2794619   0.06668678 -0.18528673\n",
      "  0.32997644  0.22898008 -0.34520456 -0.08478537 -0.08134042  0.18606313\n",
      " -0.02795762 -0.18381299 -0.01800981 -0.01356451 -0.13271166  0.13744706\n",
      " -0.00462981 -0.3213552  -0.06995157  0.1747461   0.19557606 -0.00258067\n",
      "  0.24483562 -0.16757362]\n"
     ]
    }
   ],
   "source": [
    "vector = model.infer_vector(['user', 'interface', 'for', 'computer'])\n",
    "print(vector)"
   ]
  },
  {
   "cell_type": "markdown",
   "id": "1fafa189",
   "metadata": {},
   "source": [
    "## Adding the dm_concat parameter to use concatenation of the word vectors\n"
   ]
  },
  {
   "cell_type": "code",
   "execution_count": 23,
   "id": "0b606950",
   "metadata": {},
   "outputs": [],
   "source": [
    "model = Doc2Vec(documents, vector_size=50, min_count=2, epochs=40, window=2, dm=1, alpha=0.3, min_alpha=0.05, dm_concat=1)\n",
    "model.train(documents, total_examples=model.corpus_count, epochs=model.epochs)"
   ]
  },
  {
   "cell_type": "code",
   "execution_count": 24,
   "id": "59c60655",
   "metadata": {},
   "outputs": [
    {
     "name": "stdout",
     "output_type": "stream",
     "text": [
      "[ 0.03773112 -0.20826522 -0.10378091  0.00898944  0.1619937   0.07913642\n",
      "  0.03239574 -0.25054485  0.01461297  0.16573314 -0.09829282 -0.01521427\n",
      " -0.17119169 -0.16681662 -0.01669092 -0.15423249  0.04396598  0.08041818\n",
      " -0.05130988 -0.19174676  0.01460071  0.02210508 -0.09894468  0.02346781\n",
      " -0.23472956 -0.07796176 -0.27106303 -0.00614524  0.08469789 -0.16458744\n",
      "  0.17992994 -0.02304962  0.06590129 -0.21521696  0.10241684 -0.14612527\n",
      "  0.05690332 -0.11589447 -0.00139536  0.03630562  0.19709547 -0.02264826\n",
      "  0.21506989 -0.22678553  0.05019264 -0.06729796  0.05885966  0.00277757\n",
      "  0.01487127 -0.14159141]\n"
     ]
    }
   ],
   "source": [
    "vector = model.infer_vector(['user', 'interface', 'for', 'computer'])\n",
    "print(vector)"
   ]
  },
  {
   "cell_type": "markdown",
   "id": "da6e56dc",
   "metadata": {},
   "source": [
    "## Adding the dm_mean parameter to use sum of the context word vectors (dm_mean=1)\n"
   ]
  },
  {
   "cell_type": "code",
   "execution_count": 25,
   "id": "342418fa",
   "metadata": {},
   "outputs": [],
   "source": [
    "model = Doc2Vec(documents, vector_size=50, min_count=2, epochs=40, window=2, dm=1, dm_concat=0, dm_mean=1, alpha=0.3, min_alpha=0.05)\n",
    "model.train(documents, total_examples=model.corpus_count, epochs=model.epochs)"
   ]
  },
  {
   "cell_type": "code",
   "execution_count": 26,
   "id": "6c89d6ed",
   "metadata": {},
   "outputs": [
    {
     "name": "stdout",
     "output_type": "stream",
     "text": [
      "[-0.32081848 -0.07034425 -0.19386359 -0.0073753  -0.12657149  0.12652932\n",
      " -0.16216983  0.19491796 -0.2673311   0.11826707  0.24494976  0.26303568\n",
      "  0.12428475 -0.24816737  0.16992673 -0.3462673  -0.07880609  0.1366772\n",
      " -0.34724015 -0.0381703  -0.06368154  0.07221834 -0.17794438  0.16144235\n",
      " -0.04233294  0.00254776 -0.21198331 -0.2794619   0.06668678 -0.18528673\n",
      "  0.32997644  0.22898008 -0.34520456 -0.08478537 -0.08134042  0.18606313\n",
      " -0.02795762 -0.18381299 -0.01800981 -0.01356451 -0.13271166  0.13744706\n",
      " -0.00462981 -0.3213552  -0.06995157  0.1747461   0.19557606 -0.00258067\n",
      "  0.24483562 -0.16757362]\n"
     ]
    }
   ],
   "source": [
    "vector = model.infer_vector(['user', 'interface', 'for', 'computer'])\n",
    "print(vector)"
   ]
  },
  {
   "cell_type": "markdown",
   "id": "a6c53f34",
   "metadata": {},
   "source": [
    "## Adding the dm_mean parameter to use mean of the context word vectors (dm_mean=0)\n"
   ]
  },
  {
   "cell_type": "code",
   "execution_count": 27,
   "id": "4c268cc2",
   "metadata": {},
   "outputs": [],
   "source": [
    "model = Doc2Vec(documents, vector_size=50, min_count=2, epochs=40, window=2, dm=1, dm_concat=0, dm_mean=0, alpha=0.3, min_alpha=0.05)\n",
    "model.train(documents, total_examples=model.corpus_count, epochs=model.epochs)"
   ]
  },
  {
   "cell_type": "code",
   "execution_count": 28,
   "id": "8cca2c7b",
   "metadata": {},
   "outputs": [
    {
     "name": "stdout",
     "output_type": "stream",
     "text": [
      "[-0.32081848 -0.07034425 -0.19386359 -0.0073753  -0.12657149  0.12652932\n",
      " -0.16216983  0.19491796 -0.2673311   0.11826707  0.24494976  0.26303568\n",
      "  0.12428475 -0.24816737  0.16992673 -0.3462673  -0.07880609  0.1366772\n",
      " -0.34724015 -0.0381703  -0.06368154  0.07221834 -0.17794438  0.16144235\n",
      " -0.04233294  0.00254776 -0.21198331 -0.2794619   0.06668678 -0.18528673\n",
      "  0.32997644  0.22898008 -0.34520456 -0.08478537 -0.08134042  0.18606313\n",
      " -0.02795762 -0.18381299 -0.01800981 -0.01356451 -0.13271166  0.13744706\n",
      " -0.00462981 -0.3213552  -0.06995157  0.1747461   0.19557606 -0.00258067\n",
      "  0.24483562 -0.16757362]\n"
     ]
    }
   ],
   "source": [
    "vector = model.infer_vector(['user', 'interface', 'for', 'computer'])\n",
    "print(vector)"
   ]
  },
  {
   "cell_type": "code",
   "execution_count": null,
   "id": "41460508",
   "metadata": {},
   "outputs": [],
   "source": []
  }
 ],
 "metadata": {
  "kernelspec": {
   "display_name": "Python 3 (ipykernel)",
   "language": "python",
   "name": "python3"
  },
  "language_info": {
   "codemirror_mode": {
    "name": "ipython",
    "version": 3
   },
   "file_extension": ".py",
   "mimetype": "text/x-python",
   "name": "python",
   "nbconvert_exporter": "python",
   "pygments_lexer": "ipython3",
   "version": "3.11.4"
  }
 },
 "nbformat": 4,
 "nbformat_minor": 5
}
