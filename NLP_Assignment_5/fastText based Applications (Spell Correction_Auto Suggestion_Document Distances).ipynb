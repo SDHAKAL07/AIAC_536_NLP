{
 "cells": [
  {
   "cell_type": "markdown",
   "id": "2a4d6e9d",
   "metadata": {},
   "source": [
    "# Building a Spell Corrector/Text Suggestor using fastText\n",
    "\n"
   ]
  },
  {
   "cell_type": "markdown",
   "id": "a7c5f5f8",
   "metadata": {},
   "source": [
    "\n",
    "### Importing the libraries"
   ]
  },
  {
   "cell_type": "code",
   "execution_count": 1,
   "id": "9771d5e2",
   "metadata": {},
   "outputs": [
    {
     "name": "stderr",
     "output_type": "stream",
     "text": [
      "[nltk_data] Downloading package stopwords to\n",
      "[nltk_data]     C:\\Users\\Leapfrog\\AppData\\Roaming\\nltk_data...\n",
      "[nltk_data]   Package stopwords is already up-to-date!\n",
      "[nltk_data] Downloading package wordnet to\n",
      "[nltk_data]     C:\\Users\\Leapfrog\\AppData\\Roaming\\nltk_data...\n",
      "[nltk_data]   Package wordnet is already up-to-date!\n"
     ]
    }
   ],
   "source": [
    "import nltk\n",
    "import re\n",
    "nltk.download('stopwords')\n",
    "nltk.download('wordnet')\n",
    "from nltk.corpus import stopwords\n",
    "from nltk.stem.porter import PorterStemmer \n",
    "from nltk.stem.snowball import SnowballStemmer\n",
    "from nltk.stem.wordnet import WordNetLemmatizer\n",
    "from gensim.models import FastText,Word2Vec\n",
    "import io\n",
    "import collections"
   ]
  },
  {
   "cell_type": "markdown",
   "id": "1f86e3e7",
   "metadata": {},
   "source": [
    "## Reading the data"
   ]
  },
  {
   "cell_type": "code",
   "execution_count": 2,
   "id": "5bc14cf2",
   "metadata": {},
   "outputs": [],
   "source": [
    "words = []\n",
    "data = []\n",
    "with io.open(r'comments.txt',encoding=\"utf8\") as file:\n",
    "    for entry in file:\n",
    "        entry = entry.strip()\n",
    "        data.append(entry)\n",
    "        words.extend(entry.split())"
   ]
  },
  {
   "cell_type": "markdown",
   "id": "266a1929",
   "metadata": {},
   "source": [
    "## Checking for common terms in the data\n"
   ]
  },
  {
   "cell_type": "code",
   "execution_count": 3,
   "id": "a8489650",
   "metadata": {},
   "outputs": [
    {
     "data": {
      "text/plain": [
       "[('the', 445892),\n",
       " ('to', 288753),\n",
       " ('of', 219279),\n",
       " ('and', 207335),\n",
       " ('a', 201765),\n",
       " ('I', 182618),\n",
       " ('is', 164602),\n",
       " ('you', 157025),\n",
       " ('that', 140495),\n",
       " ('in', 130244)]"
      ]
     },
     "execution_count": 3,
     "metadata": {},
     "output_type": "execute_result"
    }
   ],
   "source": [
    "unique_words = []\n",
    "unique_words = collections.Counter(words)\n",
    "unique_words.most_common(10)"
   ]
  },
  {
   "cell_type": "code",
   "execution_count": 4,
   "id": "7a190505",
   "metadata": {},
   "outputs": [
    {
     "data": {
      "text/plain": [
       "['\"Explanation',\n",
       " 'Why the edits made under my username Hardcore Metallica Fan were reverted? They weren\\'t vandalisms, just closure on some GAs after I voted at New York Dolls FAC. And please don\\'t remove the template from the talk page since I\\'m retired now.89.205.38.27\"',\n",
       " \"D'aww! He matches this background colour I'm seemingly stuck with. Thanks.  (talk) 21:51, January 11, 2016 (UTC)\"]"
      ]
     },
     "execution_count": 4,
     "metadata": {},
     "output_type": "execute_result"
    }
   ],
   "source": [
    "data[:3]\n"
   ]
  },
  {
   "cell_type": "markdown",
   "id": "791d01f8",
   "metadata": {},
   "source": [
    "## Data Preprocessing"
   ]
  },
  {
   "cell_type": "code",
   "execution_count": 5,
   "id": "5fb56421",
   "metadata": {},
   "outputs": [],
   "source": [
    "def text_clean(corpus):\n",
    "    '''\n",
    "    Purpose : Function to keep only alphabets, digits and certain words (punctuations, qmarks, tabs etc. removed)\n",
    "    \n",
    "    Input : Takes a text corpus, 'corpus' to be cleaned along with a list of words, 'keep_list', which have to be retained\n",
    "            even after the cleaning process\n",
    "    \n",
    "    Output : Returns the cleaned text corpus\n",
    "    \n",
    "    '''\n",
    "    cleaned_corpus = []\n",
    "    for row in corpus:\n",
    "        qs = []\n",
    "        for word in row.split():\n",
    "            p1 = re.sub(pattern='[^a-zA-Z0-9]',repl=' ',string=word)\n",
    "            p1 = p1.lower()\n",
    "            qs.append(p1)\n",
    "        cleaned_corpus.append(' '.join(qs))\n",
    "    return cleaned_corpus"
   ]
  },
  {
   "cell_type": "code",
   "execution_count": 6,
   "id": "4b9ab662",
   "metadata": {},
   "outputs": [],
   "source": [
    "def stopwords_removal(corpus):\n",
    "    wh_words = ['who', 'what', 'when', 'why', 'how', 'which', 'where', 'whom']\n",
    "    stop = set(stopwords.words('english'))\n",
    "    for word in wh_words:\n",
    "        stop.remove(word)\n",
    "    corpus = [[x for x in x.split() if x not in stop] for x in corpus]\n",
    "    return corpus"
   ]
  },
  {
   "cell_type": "code",
   "execution_count": 7,
   "id": "04743239",
   "metadata": {},
   "outputs": [],
   "source": [
    "def lemmatize(corpus):\n",
    "    lem = WordNetLemmatizer()\n",
    "    corpus = [[lem.lemmatize(x, pos = 'v') for x in x] for x in corpus]\n",
    "    return corpus"
   ]
  },
  {
   "cell_type": "code",
   "execution_count": 8,
   "id": "1c676b67",
   "metadata": {},
   "outputs": [],
   "source": [
    "def stem(corpus, stem_type = None):\n",
    "    if stem_type == 'snowball':\n",
    "        stemmer = SnowballStemmer(language = 'english')\n",
    "        corpus = [[stemmer.stem(x) for x in x] for x in corpus]\n",
    "    else :\n",
    "        stemmer = PorterStemmer()\n",
    "        corpus = [[stemmer.stem(x) for x in x] for x in corpus]\n",
    "    return corpus"
   ]
  },
  {
   "cell_type": "code",
   "execution_count": 9,
   "id": "f27bb072",
   "metadata": {},
   "outputs": [],
   "source": [
    "def preprocess(corpus, cleaning = True, stemming = False, stem_type = None, lemmatization = False, remove_stopwords = True):\n",
    "    '''\n",
    "    Purpose : Function to perform all pre-processing tasks (cleaning, stemming, lemmatization, stopwords removal etc.)\n",
    "    \n",
    "    Input : \n",
    "    'corpus' - Text corpus on which pre-processing tasks will be performed\n",
    "    'keep_list' - List of words to be retained during cleaning process\n",
    "    'cleaning', 'stemming', 'lemmatization', 'remove_stopwords' - Boolean variables indicating whether a particular task should \n",
    "                                                                  be performed or not\n",
    "    'stem_type' - Choose between Porter stemmer or Snowball(Porter2) stemmer. Default is \"None\", which corresponds to Porter\n",
    "                  Stemmer. 'snowball' corresponds to Snowball Stemmer\n",
    "    \n",
    "    Note : Either stemming or lemmatization should be used. There's no benefit of using both of them together\n",
    "    \n",
    "    Output : Returns the processed text corpus\n",
    "    \n",
    "    '''\n",
    "    \n",
    "    if cleaning == True:\n",
    "        corpus = text_clean(corpus)\n",
    "    \n",
    "    if remove_stopwords == True:\n",
    "        corpus = stopwords_removal(corpus)\n",
    "    else :\n",
    "        corpus = [[x for x in x.split()] for x in corpus]\n",
    "    \n",
    "    if lemmatization == True:\n",
    "        corpus = lemmatize(corpus)\n",
    "        \n",
    "        \n",
    "    if stemming == True:\n",
    "        corpus = stem(corpus, stem_type)\n",
    "    \n",
    "    corpus = [' '.join(x) for x in corpus]        \n",
    "\n",
    "    return corpus"
   ]
  },
  {
   "cell_type": "code",
   "execution_count": 10,
   "id": "72053838",
   "metadata": {},
   "outputs": [],
   "source": [
    "\n",
    "data = preprocess(data)"
   ]
  },
  {
   "cell_type": "markdown",
   "id": "2ab45533",
   "metadata": {},
   "source": [
    "## Data conversion into formation expected by fastText\n"
   ]
  },
  {
   "cell_type": "code",
   "execution_count": 11,
   "id": "9619a2cc",
   "metadata": {},
   "outputs": [],
   "source": [
    "preprocessed_data = []\n",
    "for line in data:\n",
    "    if line != \"\":\n",
    "        preprocessed_data.append(line.split())"
   ]
  },
  {
   "cell_type": "markdown",
   "id": "e8ce7b2d",
   "metadata": {},
   "source": [
    "## Building the fastText model\n"
   ]
  },
  {
   "cell_type": "code",
   "execution_count": 12,
   "id": "153d956d",
   "metadata": {},
   "outputs": [],
   "source": [
    "model = FastText(vector_size =300, window=3, min_count=1, min_n=1, max_n=5)\n"
   ]
  },
  {
   "cell_type": "code",
   "execution_count": 13,
   "id": "5229b527",
   "metadata": {},
   "outputs": [],
   "source": [
    "model.build_vocab(preprocessed_data)\n"
   ]
  },
  {
   "cell_type": "code",
   "execution_count": 14,
   "id": "20d575cb",
   "metadata": {},
   "outputs": [
    {
     "data": {
      "text/plain": [
       "182228"
      ]
     },
     "execution_count": 14,
     "metadata": {},
     "output_type": "execute_result"
    }
   ],
   "source": [
    "len(model.wv.key_to_index )\n"
   ]
  },
  {
   "cell_type": "code",
   "execution_count": null,
   "id": "100b4851",
   "metadata": {},
   "outputs": [],
   "source": [
    "model.train(preprocessed_data, total_examples=len(preprocessed_data), epochs=10)\n"
   ]
  },
  {
   "cell_type": "markdown",
   "id": "176281f2",
   "metadata": {},
   "source": [
    "## Checking for top 5 similar terms returned by the model for specific words (Can be spell corrections and suggestions)"
   ]
  },
  {
   "cell_type": "code",
   "execution_count": null,
   "id": "5699d37f",
   "metadata": {},
   "outputs": [],
   "source": [
    "model.wv.most_similar('eplain', topn=5)\n"
   ]
  },
  {
   "cell_type": "code",
   "execution_count": null,
   "id": "d36c57a5",
   "metadata": {},
   "outputs": [],
   "source": [
    "model.wv.most_similar('reminder', topn=5)\n"
   ]
  },
  {
   "cell_type": "code",
   "execution_count": null,
   "id": "2d2d79fd",
   "metadata": {},
   "outputs": [],
   "source": [
    "model.wv.most_similar('relevnt', topn=5)\n"
   ]
  },
  {
   "cell_type": "code",
   "execution_count": null,
   "id": "0ac670a9",
   "metadata": {},
   "outputs": [],
   "source": [
    "model.wv.most_similar('purse', topn=5)\n"
   ]
  },
  {
   "cell_type": "markdown",
   "id": "910900e7",
   "metadata": {},
   "source": [
    "## fastText and Word Mover's Distance\n"
   ]
  },
  {
   "cell_type": "code",
   "execution_count": null,
   "id": "2939c8ce",
   "metadata": {},
   "outputs": [],
   "source": [
    "sentence_1 = \"Obama speaks to the media in Illinois\"\n",
    "sentence_2 = \"President greets the press in Chicago\"\n",
    "sentence_3 = \"Apple is my favorite company\""
   ]
  },
  {
   "cell_type": "code",
   "execution_count": null,
   "id": "559342f6",
   "metadata": {},
   "outputs": [],
   "source": [
    "word_mover_distance = model.wv.wmdistance(sentence_1, sentence_2)\n",
    "word_mover_distance"
   ]
  },
  {
   "cell_type": "code",
   "execution_count": null,
   "id": "51f181b8",
   "metadata": {},
   "outputs": [],
   "source": [
    "word_mover_distance = model.wv.wmdistance(sentence_2, sentence_3)\n",
    "word_mover_distance"
   ]
  },
  {
   "cell_type": "markdown",
   "id": "5cc5fc67",
   "metadata": {},
   "source": []
  }
 ],
 "metadata": {
  "kernelspec": {
   "display_name": "Python 3 (ipykernel)",
   "language": "python",
   "name": "python3"
  },
  "language_info": {
   "codemirror_mode": {
    "name": "ipython",
    "version": 3
   },
   "file_extension": ".py",
   "mimetype": "text/x-python",
   "name": "python",
   "nbconvert_exporter": "python",
   "pygments_lexer": "ipython3",
   "version": "3.11.4"
  }
 },
 "nbformat": 4,
 "nbformat_minor": 5
}
