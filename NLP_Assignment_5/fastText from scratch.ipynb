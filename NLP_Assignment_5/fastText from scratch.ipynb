{
 "cells": [
  {
   "cell_type": "markdown",
   "id": "dd6c5311",
   "metadata": {},
   "source": [
    "## Building fastText based models\n"
   ]
  },
  {
   "cell_type": "markdown",
   "id": "5f6e2d65",
   "metadata": {},
   "source": [
    "### Importing the libraries and data\n"
   ]
  },
  {
   "cell_type": "code",
   "execution_count": 1,
   "id": "535ffbca",
   "metadata": {},
   "outputs": [],
   "source": [
    "from gensim.models import FastText\n",
    "from gensim.test.utils import common_texts"
   ]
  },
  {
   "cell_type": "code",
   "execution_count": 2,
   "id": "7fa0d45b",
   "metadata": {},
   "outputs": [
    {
     "data": {
      "text/plain": [
       "[['human', 'interface', 'computer'],\n",
       " ['survey', 'user', 'computer', 'system', 'response', 'time'],\n",
       " ['eps', 'user', 'interface', 'system'],\n",
       " ['system', 'human', 'system', 'eps'],\n",
       " ['user', 'response', 'time'],\n",
       " ['trees'],\n",
       " ['graph', 'trees'],\n",
       " ['graph', 'minors', 'trees'],\n",
       " ['graph', 'minors', 'survey']]"
      ]
     },
     "execution_count": 2,
     "metadata": {},
     "output_type": "execute_result"
    }
   ],
   "source": [
    "common_texts\n"
   ]
  },
  {
   "cell_type": "markdown",
   "id": "73732be1",
   "metadata": {},
   "source": [
    "## Building a basic model\n"
   ]
  },
  {
   "cell_type": "code",
   "execution_count": 3,
   "id": "baac94aa",
   "metadata": {},
   "outputs": [],
   "source": [
    "model = FastText(vector_size=5, window=3, min_count=1)\n"
   ]
  },
  {
   "cell_type": "code",
   "execution_count": 4,
   "id": "bcce26bf",
   "metadata": {},
   "outputs": [
    {
     "data": {
      "text/plain": [
       "(36, 290)"
      ]
     },
     "execution_count": 4,
     "metadata": {},
     "output_type": "execute_result"
    }
   ],
   "source": [
    "model.build_vocab(common_texts)\n",
    "model.train(common_texts, total_examples=len(common_texts), epochs=10)"
   ]
  },
  {
   "cell_type": "markdown",
   "id": "f8b4ea9a",
   "metadata": {},
   "source": [
    "## Check the vocabulary\n"
   ]
  },
  {
   "cell_type": "code",
   "execution_count": 5,
   "id": "80bfaa6f",
   "metadata": {},
   "outputs": [
    {
     "data": {
      "text/plain": [
       "{'system': 0,\n",
       " 'graph': 1,\n",
       " 'trees': 2,\n",
       " 'user': 3,\n",
       " 'minors': 4,\n",
       " 'eps': 5,\n",
       " 'time': 6,\n",
       " 'response': 7,\n",
       " 'survey': 8,\n",
       " 'computer': 9,\n",
       " 'interface': 10,\n",
       " 'human': 11}"
      ]
     },
     "execution_count": 5,
     "metadata": {},
     "output_type": "execute_result"
    }
   ],
   "source": [
    "model.wv.key_to_index \n"
   ]
  },
  {
   "cell_type": "code",
   "execution_count": 6,
   "id": "d03af5f6",
   "metadata": {},
   "outputs": [
    {
     "data": {
      "text/plain": [
       "array([-0.03166137,  0.02326731,  0.01241683,  0.00036033,  0.02841445],\n",
       "      dtype=float32)"
      ]
     },
     "execution_count": 6,
     "metadata": {},
     "output_type": "execute_result"
    }
   ],
   "source": [
    "model.wv['human']\n"
   ]
  },
  {
   "cell_type": "code",
   "execution_count": 7,
   "id": "3b94a480",
   "metadata": {},
   "outputs": [
    {
     "data": {
      "text/plain": [
       "[('user', 0.7968785166740417),\n",
       " ('system', 0.17462188005447388),\n",
       " ('response', 0.104334257543087),\n",
       " ('survey', 0.009604745544493198),\n",
       " ('trees', -0.07640466839075089),\n",
       " ('time', -0.1330047994852066),\n",
       " ('minors', -0.13927175104618073),\n",
       " ('eps', -0.24093686044216156),\n",
       " ('graph', -0.291752427816391)]"
      ]
     },
     "execution_count": 7,
     "metadata": {},
     "output_type": "execute_result"
    }
   ],
   "source": [
    "model.wv.most_similar(positive=['computer', 'interface'], negative=['human'])\n"
   ]
  },
  {
   "cell_type": "markdown",
   "id": "b5d0bc4d",
   "metadata": {},
   "source": [
    "## min_n and max_n parameters\n"
   ]
  },
  {
   "cell_type": "code",
   "execution_count": 8,
   "id": "d1c4a9d4",
   "metadata": {},
   "outputs": [],
   "source": [
    "model = FastText(vector_size=5, window=3, min_count=1, min_n=1, max_n=5)\n"
   ]
  },
  {
   "cell_type": "code",
   "execution_count": 9,
   "id": "f164c4b5",
   "metadata": {},
   "outputs": [
    {
     "data": {
      "text/plain": [
       "(36, 290)"
      ]
     },
     "execution_count": 9,
     "metadata": {},
     "output_type": "execute_result"
    }
   ],
   "source": [
    "model.build_vocab(common_texts)\n",
    "model.train(common_texts, total_examples=len(common_texts), epochs=10)"
   ]
  },
  {
   "cell_type": "markdown",
   "id": "676304be",
   "metadata": {},
   "source": [
    "## Let's try and fetch a representation for an out of vocabulary word\n"
   ]
  },
  {
   "cell_type": "code",
   "execution_count": 10,
   "id": "6c210f78",
   "metadata": {},
   "outputs": [
    {
     "data": {
      "text/plain": [
       "array([ 0.01833104, -0.02146881,  0.00600105, -0.03445042, -0.0165866 ],\n",
       "      dtype=float32)"
      ]
     },
     "execution_count": 10,
     "metadata": {},
     "output_type": "execute_result"
    }
   ],
   "source": [
    "model.wv['rubber']\n"
   ]
  },
  {
   "cell_type": "markdown",
   "id": "b2532a9c",
   "metadata": {},
   "source": [
    "### Checkout the most similar feature using an Out of Vocab term\n"
   ]
  },
  {
   "cell_type": "code",
   "execution_count": 11,
   "id": "4422bcba",
   "metadata": {},
   "outputs": [
    {
     "data": {
      "text/plain": [
       "[('trees', 0.795038104057312),\n",
       " ('eps', 0.7793108820915222),\n",
       " ('minors', 0.2440604418516159),\n",
       " ('time', 0.1623203307390213),\n",
       " ('user', -0.04820729047060013),\n",
       " ('graph', -0.1567206084728241),\n",
       " ('survey', -0.20417772233486176),\n",
       " ('interface', -0.39214828610420227),\n",
       " ('response', -0.6897355914115906),\n",
       " ('system', -0.8435077667236328)]"
      ]
     },
     "execution_count": 11,
     "metadata": {},
     "output_type": "execute_result"
    }
   ],
   "source": [
    "model.wv.most_similar(positive=['computer', 'human'], negative=['rubber'])\n"
   ]
  },
  {
   "cell_type": "markdown",
   "id": "e13ce782",
   "metadata": {},
   "source": [
    "### Extending the built model to incorporate words from new sentences\n"
   ]
  },
  {
   "cell_type": "code",
   "execution_count": 12,
   "id": "05268c0e",
   "metadata": {},
   "outputs": [],
   "source": [
    "sentences_to_be_added = [[\"I\", \"am\", \"learning\", \"Natural\", \"Language\", \"Processing\"],\n",
    "                         [\"Natural\", \"Language\", \"Processing\", \"is\", \"cool\"]]\n"
   ]
  },
  {
   "cell_type": "code",
   "execution_count": 13,
   "id": "be5825f8",
   "metadata": {},
   "outputs": [
    {
     "data": {
      "text/plain": [
       "(43, 290)"
      ]
     },
     "execution_count": 13,
     "metadata": {},
     "output_type": "execute_result"
    }
   ],
   "source": [
    "model.build_vocab(sentences_to_be_added, update=True)\n",
    "model.train(common_texts, total_examples=len(sentences_to_be_added), epochs=10)"
   ]
  },
  {
   "cell_type": "code",
   "execution_count": 14,
   "id": "fde5f3a8",
   "metadata": {},
   "outputs": [
    {
     "data": {
      "text/plain": [
       "{'system': 0,\n",
       " 'graph': 1,\n",
       " 'trees': 2,\n",
       " 'user': 3,\n",
       " 'minors': 4,\n",
       " 'eps': 5,\n",
       " 'time': 6,\n",
       " 'response': 7,\n",
       " 'survey': 8,\n",
       " 'computer': 9,\n",
       " 'interface': 10,\n",
       " 'human': 11,\n",
       " 'I': 12,\n",
       " 'am': 13,\n",
       " 'learning': 14,\n",
       " 'Natural': 15,\n",
       " 'Language': 16,\n",
       " 'Processing': 17,\n",
       " 'is': 18,\n",
       " 'cool': 19}"
      ]
     },
     "execution_count": 14,
     "metadata": {},
     "output_type": "execute_result"
    }
   ],
   "source": [
    "model.wv.key_to_index \n"
   ]
  },
  {
   "cell_type": "markdown",
   "id": "8e1fc0bb",
   "metadata": {},
   "source": [
    "## Summary"
   ]
  },
  {
   "cell_type": "markdown",
   "id": "7350d05f",
   "metadata": {},
   "source": [
    "In this assignment we learn to create a basic fasttext model from scratch. This module allows training word embeddings from a training corpus with the additional ability to obtain word vectors for out-of-vocabulary words.\n"
   ]
  }
 ],
 "metadata": {
  "kernelspec": {
   "display_name": "Python 3 (ipykernel)",
   "language": "python",
   "name": "python3"
  },
  "language_info": {
   "codemirror_mode": {
    "name": "ipython",
    "version": 3
   },
   "file_extension": ".py",
   "mimetype": "text/x-python",
   "name": "python",
   "nbconvert_exporter": "python",
   "pygments_lexer": "ipython3",
   "version": "3.11.4"
  }
 },
 "nbformat": 4,
 "nbformat_minor": 5
}
